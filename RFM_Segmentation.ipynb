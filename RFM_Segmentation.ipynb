{
 "cells": [
  {
   "cell_type": "markdown",
   "id": "901f086c",
   "metadata": {},
   "source": [
    "# Performs RFM (Recency, Frequency, Monetary) Customer Segmentation using K-Means with Snowpark, based on an online retail dataset from Kaggle"
   ]
  },
  {
   "cell_type": "code",
   "execution_count": 24,
   "id": "27223455",
   "metadata": {},
   "outputs": [],
   "source": [
    "%config Completer.use_jedi = False\n",
    "from snowflake.snowpark.session import Session\n",
    "from snowflake.snowpark import DataFrame, Window\n",
    "from snowflake.snowpark.types import *\n",
    "from snowflake.snowpark import functions as F\n",
    "from snowflake.snowpark.functions import col, lit\n",
    "\n",
    "# Snowflake connection info is saved in config.py\n",
    "from config import snowflake_conn_prop\n"
   ]
  },
  {
   "cell_type": "markdown",
   "id": "60391b31",
   "metadata": {},
   "source": [
    "## Configure Snowpark Session and initialize the database, warehouse, and schema"
   ]
  },
  {
   "cell_type": "code",
   "execution_count": 25,
   "id": "547cd928",
   "metadata": {},
   "outputs": [
    {
     "name": "stdout",
     "output_type": "stream",
     "text": [
      "[Row(CURRENT_WAREHOUSE()='COMPUTE_WH', CURRENT_DATABASE()='RETAIL', CURRENT_SCHEMA()='PUBLIC', CURRENT_USER()='ADMIN')]\n"
     ]
    }
   ],
   "source": [
    "session = Session.builder.configs(snowflake_conn_prop).create()\n",
    "session.sql(\"use role {}\".format(snowflake_conn_prop['role'])).collect()\n",
    "session.sql(\"use database {}\".format(snowflake_conn_prop['database'])).collect()\n",
    "session.sql(\"use schema {}\".format(snowflake_conn_prop['schema'])).collect()\n",
    "session.sql(\"use warehouse {}\".format(snowflake_conn_prop['warehouse']))\n",
    "print(session.sql('select current_warehouse(), current_database(), current_schema(), current_user()').collect())\n"
   ]
  },
  {
   "cell_type": "markdown",
   "id": "9ec745c6",
   "metadata": {},
   "source": [
    "## Read a table as Snowpark dataframe"
   ]
  },
  {
   "cell_type": "code",
   "execution_count": 26,
   "id": "d6ee5a1e",
   "metadata": {},
   "outputs": [
    {
     "name": "stdout",
     "output_type": "stream",
     "text": [
      "----------------------------------------------------------------------------------------------------------------------------------------------------\n",
      "|\"INVOICENO\"  |\"STOCKCODE\"  |\"DESCRIPTION\"                        |\"QUANTITY\"  |\"INVOICEDATE\"        |\"UNITPRICE\"  |\"CUSTOMERID\"  |\"COUNTRY\"       |\n",
      "----------------------------------------------------------------------------------------------------------------------------------------------------\n",
      "|536365       |85123A       |WHITE HANGING HEART T-LIGHT HOLDER   |6           |2010-12-01 08:26:00  |2.55         |17850         |United Kingdom  |\n",
      "|536365       |71053        |WHITE METAL LANTERN                  |6           |2010-12-01 08:26:00  |3.39         |17850         |United Kingdom  |\n",
      "|536365       |84406B       |CREAM CUPID HEARTS COAT HANGER       |8           |2010-12-01 08:26:00  |2.75         |17850         |United Kingdom  |\n",
      "|536365       |84029G       |KNITTED UNION FLAG HOT WATER BOTTLE  |6           |2010-12-01 08:26:00  |3.39         |17850         |United Kingdom  |\n",
      "|536365       |84029E       |RED WOOLLY HOTTIE WHITE HEART.       |6           |2010-12-01 08:26:00  |3.39         |17850         |United Kingdom  |\n",
      "|536365       |22752        |SET 7 BABUSHKA NESTING BOXES         |2           |2010-12-01 08:26:00  |7.65         |17850         |United Kingdom  |\n",
      "|536365       |21730        |GLASS STAR FROSTED T-LIGHT HOLDER    |6           |2010-12-01 08:26:00  |4.25         |17850         |United Kingdom  |\n",
      "|536366       |22633        |HAND WARMER UNION JACK               |6           |2010-12-01 08:28:00  |1.85         |17850         |United Kingdom  |\n",
      "|536366       |22632        |HAND WARMER RED POLKA DOT            |6           |2010-12-01 08:28:00  |1.85         |17850         |United Kingdom  |\n",
      "|536367       |84879        |ASSORTED COLOUR BIRD ORNAMENT        |32          |2010-12-01 08:34:00  |1.69         |13047         |United Kingdom  |\n",
      "----------------------------------------------------------------------------------------------------------------------------------------------------\n",
      "\n"
     ]
    }
   ],
   "source": [
    "df = session.table(\"RETAIL\")\n",
    "df.show()"
   ]
  },
  {
   "cell_type": "markdown",
   "id": "43e0a56b",
   "metadata": {},
   "source": [
    "## Exploratory Data Analysis"
   ]
  },
  {
   "cell_type": "code",
   "execution_count": 27,
   "id": "7604a43a",
   "metadata": {},
   "outputs": [
    {
     "name": "stdout",
     "output_type": "stream",
     "text": [
      "---------------------------------------------------------------------------------------------------------------------------------------------\n",
      "|\"SUMMARY\"  |\"INVOICENO\"  |\"STOCKCODE\"  |\"DESCRIPTION\"                   |\"QUANTITY\"  |\"UNITPRICE\"        |\"CUSTOMERID\"       |\"COUNTRY\"    |\n",
      "---------------------------------------------------------------------------------------------------------------------------------------------\n",
      "|count      |541909       |541909       |540455                          |541909      |541909.0           |406829.0           |541909       |\n",
      "|mean       |NULL         |NULL         |NULL                            |NULL        |4.61111362         |15287.69057        |NULL         |\n",
      "|stddev     |NULL         |NULL         |NULL                            |NULL        |96.75985306153116  |1713.600303321635  |NULL         |\n",
      "|min        |536365       |10002        | 4 PURPLE FLOCK DINNER CANDLES  |-1          |-11062.06          |12346.0            |Australia    |\n",
      "|max        |C581569      |m            |wrongly sold sets               |992         |38970.0            |18287.0            |Unspecified  |\n",
      "---------------------------------------------------------------------------------------------------------------------------------------------\n",
      "\n"
     ]
    }
   ],
   "source": [
    "df.describe().show()"
   ]
  },
  {
   "cell_type": "markdown",
   "id": "fe008bdb",
   "metadata": {},
   "source": [
    "### Remove null values and invalid data"
   ]
  },
  {
   "cell_type": "code",
   "execution_count": 28,
   "id": "34e68c73",
   "metadata": {},
   "outputs": [
    {
     "name": "stdout",
     "output_type": "stream",
     "text": [
      "----------------------------------------------------------------------------------------------------------------------------------------------------\n",
      "|\"INVOICENO\"  |\"STOCKCODE\"  |\"DESCRIPTION\"                        |\"QUANTITY\"  |\"INVOICEDATE\"        |\"UNITPRICE\"  |\"CUSTOMERID\"  |\"COUNTRY\"       |\n",
      "----------------------------------------------------------------------------------------------------------------------------------------------------\n",
      "|536365       |85123A       |WHITE HANGING HEART T-LIGHT HOLDER   |6           |2010-12-01 08:26:00  |2.55         |17850         |United Kingdom  |\n",
      "|536365       |71053        |WHITE METAL LANTERN                  |6           |2010-12-01 08:26:00  |3.39         |17850         |United Kingdom  |\n",
      "|536365       |84406B       |CREAM CUPID HEARTS COAT HANGER       |8           |2010-12-01 08:26:00  |2.75         |17850         |United Kingdom  |\n",
      "|536365       |84029G       |KNITTED UNION FLAG HOT WATER BOTTLE  |6           |2010-12-01 08:26:00  |3.39         |17850         |United Kingdom  |\n",
      "|536365       |84029E       |RED WOOLLY HOTTIE WHITE HEART.       |6           |2010-12-01 08:26:00  |3.39         |17850         |United Kingdom  |\n",
      "|536365       |22752        |SET 7 BABUSHKA NESTING BOXES         |2           |2010-12-01 08:26:00  |7.65         |17850         |United Kingdom  |\n",
      "|536365       |21730        |GLASS STAR FROSTED T-LIGHT HOLDER    |6           |2010-12-01 08:26:00  |4.25         |17850         |United Kingdom  |\n",
      "|536366       |22633        |HAND WARMER UNION JACK               |6           |2010-12-01 08:28:00  |1.85         |17850         |United Kingdom  |\n",
      "|536366       |22632        |HAND WARMER RED POLKA DOT            |6           |2010-12-01 08:28:00  |1.85         |17850         |United Kingdom  |\n",
      "|536367       |84879        |ASSORTED COLOUR BIRD ORNAMENT        |32          |2010-12-01 08:34:00  |1.69         |13047         |United Kingdom  |\n",
      "----------------------------------------------------------------------------------------------------------------------------------------------------\n",
      "\n"
     ]
    }
   ],
   "source": [
    "df = df.dropna()\n",
    "df = df.filter(\"QUANTITY > 0 and UNITPRICE > 0\")\n",
    "df.show()"
   ]
  },
  {
   "cell_type": "code",
   "execution_count": 29,
   "id": "0c63ce46",
   "metadata": {},
   "outputs": [
    {
     "name": "stdout",
     "output_type": "stream",
     "text": [
      "----------------------------\n",
      "|\"COUNTRY\"       |\"COUNT\"  |\n",
      "----------------------------\n",
      "|United Kingdom  |354317   |\n",
      "|France          |8341     |\n",
      "|Australia       |1182     |\n",
      "|Germany         |9040     |\n",
      "|Norway          |1071     |\n",
      "|EIRE            |7236     |\n",
      "|Switzerland     |1841     |\n",
      "|Spain           |2484     |\n",
      "|Portugal        |1462     |\n",
      "|Italy           |758      |\n",
      "----------------------------\n",
      "\n"
     ]
    }
   ],
   "source": [
    "df.group_by(\"COUNTRY\").count().show()"
   ]
  },
  {
   "cell_type": "markdown",
   "id": "3ef3226d",
   "metadata": {},
   "source": [
    "### Filter to United Kingdom, rest of the data might have weaker representation from the population"
   ]
  },
  {
   "cell_type": "code",
   "execution_count": 30,
   "id": "83218733",
   "metadata": {},
   "outputs": [],
   "source": [
    "df = df.filter(\"COUNTRY = 'United Kingdom'\")"
   ]
  },
  {
   "cell_type": "markdown",
   "id": "11bf20ee",
   "metadata": {},
   "source": [
    "## Features Preparation"
   ]
  },
  {
   "cell_type": "markdown",
   "id": "e65c3a6f",
   "metadata": {},
   "source": [
    "### Obtain the recency, frequency and monetary (RFM) features for segmentation"
   ]
  },
  {
   "cell_type": "code",
   "execution_count": 31,
   "id": "40957f2e",
   "metadata": {},
   "outputs": [
    {
     "name": "stdout",
     "output_type": "stream",
     "text": [
      "----------------------------------------------------------\n",
      "|\"CUSTOMERID\"  |\"FREQUENCY\"  |\"MONETARY\"     |\"RECENCY\"  |\n",
      "----------------------------------------------------------\n",
      "|17850         |297          |5391.2100000   |395        |\n",
      "|13047         |172          |3237.5400000   |54         |\n",
      "|13748         |28           |948.2500000    |118        |\n",
      "|15100         |3            |876.0000000    |356        |\n",
      "|15291         |103          |4668.3000000   |48         |\n",
      "|14688         |327          |5630.8700000   |30         |\n",
      "|17809         |61           |5411.9100000   |39         |\n",
      "|15311         |2379         |60767.9000000  |23         |\n",
      "|16098         |67           |2005.6300000   |110        |\n",
      "|18074         |13           |489.6000000    |396        |\n",
      "----------------------------------------------------------\n",
      "\n"
     ]
    }
   ],
   "source": [
    "import datetime\n",
    "\n",
    "df = df.with_column(\"NOW\",lit(datetime.datetime(2012,1,1)))\n",
    "\n",
    "df.group_by(\"CUSTOMERID\").max(\"INVOICENO\")\n",
    "\n",
    "#RECENCY, FREQUENCY, MONETARY\n",
    "df_tf = df.group_by(\"CUSTOMERID\")\\\n",
    "          .agg(F.max(\"INVOICEDATE\"),\\\n",
    "               F.max(\"NOW\"),\\\n",
    "               F.sum(col(\"QUANTITY\")*col(\"UNITPRICE\")).alias(\"Monetary\"),\\\n",
    "               F.count(\"INVOICENO\").alias(\"Frequency\")).select(\"CUSTOMERID\",\"Frequency\",\"Monetary\",\\\n",
    "                                    F.datediff(\"days\",col(\"MAX(INVOICEDATE)\"),col(\"MAX(NOW)\")).alias(\"RECENCY\"))\n",
    "\n",
    "df_tf.show()\n",
    "\n",
    "\n"
   ]
  },
  {
   "cell_type": "markdown",
   "id": "5bfe9136",
   "metadata": {},
   "source": [
    "### Removal of outliers. Method is to remove data outside of 99 percentile"
   ]
  },
  {
   "cell_type": "code",
   "execution_count": 32,
   "id": "a29f4dd1",
   "metadata": {},
   "outputs": [],
   "source": [
    "freq_99pc = df_tf.select(F.percentile_cont(0.99).within_group(\"FREQUENCY\")).collect()\n",
    "rec_99pc = df_tf.select(F.percentile_cont(0.99).within_group(\"RECENCY\")).collect()\n",
    "mon_99pc = df_tf.select(F.percentile_cont(0.99).within_group(\"MONETARY\")).collect()\n",
    "\n",
    "df_tf = df_tf.filter((col(\"FREQUENCY\") < freq_99pc[0][0]) & \\\n",
    "                     (col(\"RECENCY\") < rec_99pc[0][0]) & \\\n",
    "                     (col(\"MONETARY\") < mon_99pc[0][0]))"
   ]
  },
  {
   "cell_type": "markdown",
   "id": "c2f36da1",
   "metadata": {},
   "source": [
    "### Visualize the distribution"
   ]
  },
  {
   "cell_type": "code",
   "execution_count": 33,
   "id": "c92d2906",
   "metadata": {},
   "outputs": [
    {
     "data": {
      "text/plain": [
       "<AxesSubplot:xlabel='MONETARY', ylabel='Count'>"
      ]
     },
     "execution_count": 33,
     "metadata": {},
     "output_type": "execute_result"
    },
    {
     "data": {
      "image/png": "[encoded data removed]",
      "text/plain": [
       "<Figure size 1152x576 with 3 Axes>"
      ]
     },
     "metadata": {
      "needs_background": "light"
     },
     "output_type": "display_data"
    }
   ],
   "source": [
    "import seaborn as sns\n",
    "import matplotlib.pyplot as plt\n",
    "import numpy as np\n",
    "\n",
    "fig, ax = plt.subplots(1, 3, figsize=(16, 8))\n",
    "\n",
    "df_pd = df_tf.select(\"CUSTOMERID\", \"FREQUENCY\", \"RECENCY\", \"MONETARY\").toPandas()\n",
    "\n",
    "# Recency distribution plot\n",
    "sns.histplot(df_pd['RECENCY'], kde=True, ax=ax[0])\n",
    "\n",
    "# Frequency distribution plot\n",
    "sns.histplot(df_pd['FREQUENCY'], kde=True, ax=ax[1])\n",
    "\n",
    "# Monetary distribution plot\n",
    "sns.histplot(df_pd['MONETARY'], kde=True, ax=ax[2])\n"
   ]
  },
  {
   "cell_type": "markdown",
   "id": "0ab7e904",
   "metadata": {},
   "source": [
    "## Use K-Means clustering to segment your customers based on RFM as features. For this, create a stored procedure to perform training directly on Snowflake without moving data out.\n",
    "### 1. Write the implementation code of the stored proc"
   ]
  },
  {
   "cell_type": "code",
   "execution_count": 34,
   "id": "52578d6d",
   "metadata": {},
   "outputs": [],
   "source": [
    "# Implementation code for the stored procedure\n",
    "def kmeans_cluster (session: Session, max_iter: int, iterate: int) -> str:\n",
    "        \n",
    "    import pandas as pd\n",
    "    from sklearn.preprocessing import StandardScaler\n",
    "    from sklearn.cluster import KMeans\n",
    "\n",
    "\n",
    "    scaler = StandardScaler()\n",
    "    scaler.fit(df_pd[[\"FREQUENCY\", \"RECENCY\", \"MONETARY\"]])\n",
    "    print(scaler.mean_)\n",
    "    df_train = scaler.transform(df_pd[[\"FREQUENCY\", \"RECENCY\", \"MONETARY\"]])\n",
    "    print (df_train)\n",
    "    inertia = []\n",
    "    results = []\n",
    "    \n",
    "    #sdf = session.createDataFrame(pdf_rules)\n",
    "    #sdf.write.saveAsTable(to_table,mode=\"overwrite\")\n",
    "\n",
    "\n",
    "    if iterate==1:\n",
    "        K = range(2,max_iter)\n",
    "        for k in K:\n",
    "            model = KMeans(n_clusters=k, init='k-means++', random_state=42).fit(df_train)\n",
    "            inertia.append(model.inertia_)\n",
    "            results = inertia\n",
    "    else:\n",
    "        df_pd['Cluster'] = KMeans(n_clusters=max_iter, init='k-means++', random_state=42).fit(df_train).labels_\n",
    "        df_output = session.createDataFrame(df_pd)\n",
    "        df_output.write.saveAsTable(\"RFM_Clusters\",mode=\"overwrite\")\n",
    "        results = \"MODEL CREATED\"\n",
    "        \n",
    "    return results\n"
   ]
  },
  {
   "cell_type": "markdown",
   "id": "be230451",
   "metadata": {},
   "source": [
    "### 2. Register the stored proc in Snowflake"
   ]
  },
  {
   "cell_type": "code",
   "execution_count": 35,
   "id": "2bd4159b",
   "metadata": {},
   "outputs": [
    {
     "data": {
      "text/plain": [
       "<snowflake.snowpark.stored_procedure.StoredProcedure at 0x7fd3bc2ecc70>"
      ]
     },
     "execution_count": 35,
     "metadata": {},
     "output_type": "execute_result"
    }
   ],
   "source": [
    "from snowflake.snowpark.functions import sproc\n",
    "\n",
    "# This adds the necessary packages to our Python environment in Snowflake\n",
    "# session.clear_packages()\n",
    "session.add_packages(\"snowflake-snowpark-python\",\"pandas\",\"scikit-learn\")\n",
    "\n",
    "# We need a stage to host the stored proc\n",
    "_ = session.sql('CREATE STAGE IF NOT EXISTS MODELS').collect()\n",
    "\n",
    "# Register the stored proc\n",
    "session.sproc.register(kmeans_cluster, name=\"kmeans_cluster\", is_permanent=True, stage_location=\"@models\", replace=True)\n"
   ]
  },
  {
   "cell_type": "markdown",
   "id": "0ff9517a",
   "metadata": {},
   "source": [
    "### 3. Finally, call the stored proc to perform K-Means\n"
   ]
  },
  {
   "cell_type": "code",
   "execution_count": 36,
   "id": "273c7f09",
   "metadata": {},
   "outputs": [],
   "source": [
    "max_iter = 12\n",
    "results = session.call(\"kmeans_cluster\", max_iter, 1)\n"
   ]
  },
  {
   "cell_type": "code",
   "execution_count": 37,
   "id": "70e7cb0d",
   "metadata": {},
   "outputs": [],
   "source": [
    "inertia = np.array(results[1:-1].split(',')).astype(float)"
   ]
  },
  {
   "cell_type": "markdown",
   "id": "f8a6cfc0",
   "metadata": {},
   "source": [
    "### Let's look at the elbow chart"
   ]
  },
  {
   "cell_type": "code",
   "execution_count": 38,
   "id": "4f1f4936",
   "metadata": {},
   "outputs": [
    {
     "data": {
      "image/png": "[encoded data removed]",
      "text/plain": [
       "<Figure size 1152x576 with 1 Axes>"
      ]
     },
     "metadata": {
      "needs_background": "light"
     },
     "output_type": "display_data"
    }
   ],
   "source": [
    "import matplotlib.pyplot as plt\n",
    "\n",
    "K = range(2,max_iter)\n",
    "plt.figure(figsize=(16,8))\n",
    "plt.plot(K, inertia, 'bx-')\n",
    "plt.xlabel('k')\n",
    "plt.ylabel('Inertia')\n",
    "plt.title('Elbow Chart')\n",
    "plt.show()"
   ]
  },
  {
   "cell_type": "markdown",
   "id": "4fbb2c2c",
   "metadata": {},
   "source": [
    "### Elbow is around k=4"
   ]
  },
  {
   "cell_type": "code",
   "execution_count": 39,
   "id": "a0a6c9d7",
   "metadata": {},
   "outputs": [],
   "source": [
    "max_iter = 4\n",
    "results = session.call(\"kmeans_cluster\", max_iter, 0)"
   ]
  },
  {
   "cell_type": "markdown",
   "id": "00eaa456",
   "metadata": {},
   "source": [
    "## Look at the results here https://customer-segmentation-snowpark.streamlit.app/"
   ]
  }
 ],
 "metadata": {
  "kernelspec": {
   "display_name": "getting_started_snowpark_python",
   "language": "python",
   "name": "getting_started_snowpark_python"
  },
  "language_info": {
   "codemirror_mode": {
    "name": "ipython",
    "version": 3
   },
   "file_extension": ".py",
   "mimetype": "text/x-python",
   "name": "python",
   "nbconvert_exporter": "python",
   "pygments_lexer": "ipython3",
   "version": "3.8.13"
  }
 },
 "nbformat": 4,
 "nbformat_minor": 5
}
